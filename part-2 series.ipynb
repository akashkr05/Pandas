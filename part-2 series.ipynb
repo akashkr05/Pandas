{
 "cells": [
  {
   "cell_type": "code",
   "execution_count": 1,
   "id": "53723757",
   "metadata": {},
   "outputs": [],
   "source": [
    "import pandas as pd"
   ]
  },
  {
   "cell_type": "code",
   "execution_count": 3,
   "id": "fb0186fa",
   "metadata": {},
   "outputs": [
    {
     "data": {
      "text/plain": [
       "'1.4.2'"
      ]
     },
     "execution_count": 3,
     "metadata": {},
     "output_type": "execute_result"
    }
   ],
   "source": [
    "pd.__version__"
   ]
  },
  {
   "cell_type": "markdown",
   "id": "d0aa6079",
   "metadata": {},
   "source": [
    "# Create empty series"
   ]
  },
  {
   "cell_type": "code",
   "execution_count": 74,
   "id": "c53b4ea3",
   "metadata": {},
   "outputs": [
    {
     "name": "stderr",
     "output_type": "stream",
     "text": [
      "C:\\Users\\kumar\\AppData\\Local\\Temp\\ipykernel_27940\\1110156643.py:1: FutureWarning: The default dtype for empty Series will be 'object' instead of 'float64' in a future version. Specify a dtype explicitly to silence this warning.\n",
      "  emp = pd.Series([])\n"
     ]
    },
    {
     "data": {
      "text/plain": [
       "Series([], dtype: float64)"
      ]
     },
     "execution_count": 74,
     "metadata": {},
     "output_type": "execute_result"
    }
   ],
   "source": [
    "emp = pd.Series([])\n",
    "emp"
   ]
  },
  {
   "cell_type": "markdown",
   "id": "0a11c6be",
   "metadata": {},
   "source": [
    "# Creater series using list"
   ]
  },
  {
   "cell_type": "code",
   "execution_count": 12,
   "id": "bfc513eb",
   "metadata": {},
   "outputs": [
    {
     "data": {
      "text/plain": [
       "[1, 2, 3, 4]"
      ]
     },
     "execution_count": 12,
     "metadata": {},
     "output_type": "execute_result"
    }
   ],
   "source": [
    "lst = [1, 2, 3, 4]\n",
    "lst"
   ]
  },
  {
   "cell_type": "code",
   "execution_count": 17,
   "id": "f0472367",
   "metadata": {},
   "outputs": [
    {
     "data": {
      "text/plain": [
       "0    1\n",
       "1    2\n",
       "2    3\n",
       "3    4\n",
       "dtype: int64"
      ]
     },
     "execution_count": 17,
     "metadata": {},
     "output_type": "execute_result"
    }
   ],
   "source": [
    "ls_sr = pd.Series(lst)\n",
    "ls_sr"
   ]
  },
  {
   "cell_type": "code",
   "execution_count": 19,
   "id": "e67c491a",
   "metadata": {},
   "outputs": [
    {
     "data": {
      "text/plain": [
       "pandas.core.series.Series"
      ]
     },
     "execution_count": 19,
     "metadata": {},
     "output_type": "execute_result"
    }
   ],
   "source": [
    "type(ls_sr)"
   ]
  },
  {
   "cell_type": "markdown",
   "id": "24feb2bf",
   "metadata": {},
   "source": [
    "# Create series with shortcut method"
   ]
  },
  {
   "cell_type": "code",
   "execution_count": 20,
   "id": "6eb02a3a",
   "metadata": {},
   "outputs": [
    {
     "data": {
      "text/plain": [
       "0    1\n",
       "1    2\n",
       "2    3\n",
       "3    4\n",
       "dtype: int64"
      ]
     },
     "execution_count": 20,
     "metadata": {},
     "output_type": "execute_result"
    }
   ],
   "source": [
    "sr = pd.Series([1, 2, 3, 4])\n",
    "sr"
   ]
  },
  {
   "cell_type": "markdown",
   "id": "0e4804b5",
   "metadata": {},
   "source": [
    "# Change index"
   ]
  },
  {
   "cell_type": "code",
   "execution_count": 22,
   "id": "716dbeb5",
   "metadata": {},
   "outputs": [
    {
     "data": {
      "text/plain": [
       "a    1\n",
       "b    2\n",
       "c    3\n",
       "d    4\n",
       "dtype: int64"
      ]
     },
     "execution_count": 22,
     "metadata": {},
     "output_type": "execute_result"
    }
   ],
   "source": [
    "sr = pd.Series([1, 2, 3, 4], index = ['a', 'b', 'c', 'd'])\n",
    "sr"
   ]
  },
  {
   "cell_type": "markdown",
   "id": "793c9239",
   "metadata": {},
   "source": [
    "# Change index with data type"
   ]
  },
  {
   "cell_type": "code",
   "execution_count": 24,
   "id": "ce3ed627",
   "metadata": {},
   "outputs": [
    {
     "data": {
      "text/plain": [
       "a    1.0\n",
       "b    2.0\n",
       "c    3.0\n",
       "d    4.0\n",
       "dtype: float64"
      ]
     },
     "execution_count": 24,
     "metadata": {},
     "output_type": "execute_result"
    }
   ],
   "source": [
    "sr = pd.Series([1, 2, 3, 4], index = ['a', 'b', 'c', 'd'], dtype = float)\n",
    "sr"
   ]
  },
  {
   "cell_type": "markdown",
   "id": "5c419977",
   "metadata": {},
   "source": [
    "# Create name of column data values"
   ]
  },
  {
   "cell_type": "code",
   "execution_count": 75,
   "id": "94d299e3",
   "metadata": {},
   "outputs": [
    {
     "data": {
      "text/plain": [
       "a    1.0\n",
       "b    2.0\n",
       "c    3.0\n",
       "d    4.0\n",
       "Name: id no., dtype: float64"
      ]
     },
     "execution_count": 75,
     "metadata": {},
     "output_type": "execute_result"
    }
   ],
   "source": [
    "sr = pd.Series([1, 2, 3, 4], index = ['a', 'b', 'c', 'd'], dtype = float, name = 'id no.')\n",
    "sr"
   ]
  },
  {
   "cell_type": "markdown",
   "id": "a4448c85",
   "metadata": {},
   "source": [
    "# Create series with the help of scalar values|"
   ]
  },
  {
   "cell_type": "code",
   "execution_count": 26,
   "id": "bc5407bb",
   "metadata": {},
   "outputs": [
    {
     "data": {
      "text/plain": [
       "0    0.5\n",
       "dtype: float64"
      ]
     },
     "execution_count": 26,
     "metadata": {},
     "output_type": "execute_result"
    }
   ],
   "source": [
    "sr = pd.Series(0.5)\n",
    "sr"
   ]
  },
  {
   "cell_type": "code",
   "execution_count": 31,
   "id": "790ce4de",
   "metadata": {},
   "outputs": [
    {
     "data": {
      "text/plain": [
       "1    0.5\n",
       "2    0.5\n",
       "3    0.5\n",
       "4    0.5\n",
       "dtype: float64"
      ]
     },
     "execution_count": 31,
     "metadata": {},
     "output_type": "execute_result"
    }
   ],
   "source": [
    "sr = pd.Series(0.5, index = [1,2,3,4]) #need many scalar values \n",
    "sr"
   ]
  },
  {
   "cell_type": "markdown",
   "id": "7d642b9d",
   "metadata": {},
   "source": [
    "# Create series using dictionaries"
   ]
  },
  {
   "cell_type": "code",
   "execution_count": 32,
   "id": "0d446138",
   "metadata": {},
   "outputs": [
    {
     "data": {
      "text/plain": [
       "{'a': 1, 'b': 2}"
      ]
     },
     "execution_count": 32,
     "metadata": {},
     "output_type": "execute_result"
    }
   ],
   "source": [
    "dict = {'a':1, 'b':2 }\n",
    "dict"
   ]
  },
  {
   "cell_type": "code",
   "execution_count": 38,
   "id": "16bc8d97",
   "metadata": {},
   "outputs": [
    {
     "name": "stdout",
     "output_type": "stream",
     "text": [
      "a    1\n",
      "b    2\n",
      "dtype: int64\n"
     ]
    }
   ],
   "source": [
    "series = pd.Series(dict)\n",
    "print(series)"
   ]
  },
  {
   "cell_type": "markdown",
   "id": "20050033",
   "metadata": {},
   "source": [
    "# Access first value of series"
   ]
  },
  {
   "cell_type": "code",
   "execution_count": 43,
   "id": "b7d13cc2",
   "metadata": {},
   "outputs": [
    {
     "data": {
      "text/plain": [
       "0    1\n",
       "1    2\n",
       "2    3\n",
       "3    4\n",
       "4    5\n",
       "dtype: int64"
      ]
     },
     "execution_count": 43,
     "metadata": {},
     "output_type": "execute_result"
    }
   ],
   "source": [
    "sr = pd.Series([1,2,3,4,5])\n",
    "sr"
   ]
  },
  {
   "cell_type": "code",
   "execution_count": 45,
   "id": "5da53cfc",
   "metadata": {},
   "outputs": [
    {
     "data": {
      "text/plain": [
       "1"
      ]
     },
     "execution_count": 45,
     "metadata": {},
     "output_type": "execute_result"
    }
   ],
   "source": [
    "sr[0]  # this will print the value of index 0"
   ]
  },
  {
   "cell_type": "code",
   "execution_count": 46,
   "id": "86108519",
   "metadata": {},
   "outputs": [
    {
     "data": {
      "text/plain": [
       "4"
      ]
     },
     "execution_count": 46,
     "metadata": {},
     "output_type": "execute_result"
    }
   ],
   "source": [
    "sr[3]"
   ]
  },
  {
   "cell_type": "markdown",
   "id": "03d8c145",
   "metadata": {},
   "source": [
    "# Slicing in series"
   ]
  },
  {
   "cell_type": "code",
   "execution_count": 57,
   "id": "0e8d12cb",
   "metadata": {},
   "outputs": [
    {
     "data": {
      "text/plain": [
       "0    1\n",
       "1    2\n",
       "2    3\n",
       "dtype: int64"
      ]
     },
     "execution_count": 57,
     "metadata": {},
     "output_type": "execute_result"
    }
   ],
   "source": [
    "sr[0:3]"
   ]
  },
  {
   "cell_type": "code",
   "execution_count": 58,
   "id": "edf3a8c9",
   "metadata": {},
   "outputs": [
    {
     "data": {
      "text/plain": [
       "0    1\n",
       "1    2\n",
       "2    3\n",
       "3    4\n",
       "dtype: int64"
      ]
     },
     "execution_count": 58,
     "metadata": {},
     "output_type": "execute_result"
    }
   ],
   "source": [
    "sr[0:4]"
   ]
  },
  {
   "cell_type": "markdown",
   "id": "7c03fb34",
   "metadata": {},
   "source": [
    "# Access Maximum and Minimum value in series"
   ]
  },
  {
   "cell_type": "code",
   "execution_count": 59,
   "id": "3b0ad13c",
   "metadata": {},
   "outputs": [
    {
     "data": {
      "text/plain": [
       "5"
      ]
     },
     "execution_count": 59,
     "metadata": {},
     "output_type": "execute_result"
    }
   ],
   "source": [
    "max(sr)"
   ]
  },
  {
   "cell_type": "code",
   "execution_count": 60,
   "id": "d236aa22",
   "metadata": {},
   "outputs": [
    {
     "data": {
      "text/plain": [
       "1"
      ]
     },
     "execution_count": 60,
     "metadata": {},
     "output_type": "execute_result"
    }
   ],
   "source": [
    "min(sr)"
   ]
  },
  {
   "cell_type": "markdown",
   "id": "a07efce7",
   "metadata": {},
   "source": [
    "# Perform mathematic operation in series"
   ]
  },
  {
   "cell_type": "code",
   "execution_count": 61,
   "id": "c52d8367",
   "metadata": {},
   "outputs": [
    {
     "data": {
      "text/plain": [
       "0    1\n",
       "1    2\n",
       "2    3\n",
       "3    4\n",
       "4    5\n",
       "dtype: int64"
      ]
     },
     "execution_count": 61,
     "metadata": {},
     "output_type": "execute_result"
    }
   ],
   "source": [
    "sr1 = pd.Series([1, 2 ,3, 4 ,5])\n",
    "sr1"
   ]
  },
  {
   "cell_type": "code",
   "execution_count": 62,
   "id": "091e64ef",
   "metadata": {},
   "outputs": [
    {
     "data": {
      "text/plain": [
       "0    5\n",
       "1    6\n",
       "2    7\n",
       "3    8\n",
       "4    9\n",
       "dtype: int64"
      ]
     },
     "execution_count": 62,
     "metadata": {},
     "output_type": "execute_result"
    }
   ],
   "source": [
    "sr2 = pd.Series([5, 6, 7, 8, 9])\n",
    "sr2"
   ]
  },
  {
   "cell_type": "code",
   "execution_count": 63,
   "id": "c9ade77e",
   "metadata": {},
   "outputs": [
    {
     "data": {
      "text/plain": [
       "0     6\n",
       "1     8\n",
       "2    10\n",
       "3    12\n",
       "4    14\n",
       "dtype: int64"
      ]
     },
     "execution_count": 63,
     "metadata": {},
     "output_type": "execute_result"
    }
   ],
   "source": [
    "sr1 + sr2"
   ]
  },
  {
   "cell_type": "code",
   "execution_count": 64,
   "id": "9f599bd1",
   "metadata": {},
   "outputs": [
    {
     "data": {
      "text/plain": [
       "0   -4\n",
       "1   -4\n",
       "2   -4\n",
       "3   -4\n",
       "4   -4\n",
       "dtype: int64"
      ]
     },
     "execution_count": 64,
     "metadata": {},
     "output_type": "execute_result"
    }
   ],
   "source": [
    "sr1 - sr2"
   ]
  },
  {
   "cell_type": "code",
   "execution_count": 65,
   "id": "b965beff",
   "metadata": {},
   "outputs": [
    {
     "data": {
      "text/plain": [
       "0     5\n",
       "1    12\n",
       "2    21\n",
       "3    32\n",
       "4    45\n",
       "dtype: int64"
      ]
     },
     "execution_count": 65,
     "metadata": {},
     "output_type": "execute_result"
    }
   ],
   "source": [
    "sr1 * sr2"
   ]
  },
  {
   "cell_type": "code",
   "execution_count": 66,
   "id": "fe07646b",
   "metadata": {},
   "outputs": [
    {
     "data": {
      "text/plain": [
       "0    0.200000\n",
       "1    0.333333\n",
       "2    0.428571\n",
       "3    0.500000\n",
       "4    0.555556\n",
       "dtype: float64"
      ]
     },
     "execution_count": 66,
     "metadata": {},
     "output_type": "execute_result"
    }
   ],
   "source": [
    "sr1/sr2"
   ]
  },
  {
   "cell_type": "code",
   "execution_count": 69,
   "id": "bd4c0f4e",
   "metadata": {},
   "outputs": [
    {
     "data": {
      "text/plain": [
       "0    1\n",
       "1    2\n",
       "2    3\n",
       "dtype: int64"
      ]
     },
     "execution_count": 69,
     "metadata": {},
     "output_type": "execute_result"
    }
   ],
   "source": [
    "sr3 = pd.Series([1,2,3])\n",
    "sr3"
   ]
  },
  {
   "cell_type": "code",
   "execution_count": 70,
   "id": "b3d5ac18",
   "metadata": {},
   "outputs": [
    {
     "data": {
      "text/plain": [
       "0    2.0\n",
       "1    4.0\n",
       "2    6.0\n",
       "3    NaN\n",
       "4    NaN\n",
       "dtype: float64"
      ]
     },
     "execution_count": 70,
     "metadata": {},
     "output_type": "execute_result"
    }
   ],
   "source": [
    "sr1 + sr3"
   ]
  },
  {
   "cell_type": "code",
   "execution_count": null,
   "id": "6e6c6347",
   "metadata": {},
   "outputs": [],
   "source": []
  }
 ],
 "metadata": {
  "kernelspec": {
   "display_name": "Python 3 (ipykernel)",
   "language": "python",
   "name": "python3"
  },
  "language_info": {
   "codemirror_mode": {
    "name": "ipython",
    "version": 3
   },
   "file_extension": ".py",
   "mimetype": "text/x-python",
   "name": "python",
   "nbconvert_exporter": "python",
   "pygments_lexer": "ipython3",
   "version": "3.9.12"
  }
 },
 "nbformat": 4,
 "nbformat_minor": 5
}
